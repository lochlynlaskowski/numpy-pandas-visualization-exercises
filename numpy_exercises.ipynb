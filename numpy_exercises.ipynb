{
 "cells": [
  {
   "cell_type": "code",
   "execution_count": 3,
   "id": "ace6a3f7",
   "metadata": {},
   "outputs": [],
   "source": [
    "import numpy as np"
   ]
  },
  {
   "cell_type": "code",
   "execution_count": 4,
   "id": "d83d5fba",
   "metadata": {},
   "outputs": [],
   "source": [
    "a = np.array([4, 10, 12, 23, -2, -1, 0, 0, 0, -6, 3, -7])"
   ]
  },
  {
   "cell_type": "code",
   "execution_count": null,
   "id": "1306d968",
   "metadata": {},
   "outputs": [],
   "source": [
    "# How many negative numbers are there?  --4"
   ]
  },
  {
   "cell_type": "code",
   "execution_count": 5,
   "id": "d86489aa",
   "metadata": {},
   "outputs": [
    {
     "data": {
      "text/plain": [
       "array([-2, -1, -6, -7])"
      ]
     },
     "execution_count": 5,
     "metadata": {},
     "output_type": "execute_result"
    }
   ],
   "source": [
    "a[a <0]"
   ]
  },
  {
   "cell_type": "code",
   "execution_count": null,
   "id": "e0c54769",
   "metadata": {},
   "outputs": [],
   "source": [
    "# How many positive numbers are there?  --5"
   ]
  },
  {
   "cell_type": "code",
   "execution_count": 6,
   "id": "b76aa6d4",
   "metadata": {},
   "outputs": [
    {
     "data": {
      "text/plain": [
       "array([ 4, 10, 12, 23,  3])"
      ]
     },
     "execution_count": 6,
     "metadata": {},
     "output_type": "execute_result"
    }
   ],
   "source": [
    "a[a>0]"
   ]
  },
  {
   "cell_type": "code",
   "execution_count": null,
   "id": "8c240d69",
   "metadata": {},
   "outputs": [],
   "source": [
    "# How many even positive numbers are there? --3"
   ]
  },
  {
   "cell_type": "code",
   "execution_count": 8,
   "id": "24bdcf68",
   "metadata": {},
   "outputs": [
    {
     "data": {
      "text/plain": [
       "array([ 4, 10, 12])"
      ]
     },
     "execution_count": 8,
     "metadata": {},
     "output_type": "execute_result"
    }
   ],
   "source": [
    "a[(a>0) & (a % 2 == 0)]"
   ]
  },
  {
   "cell_type": "code",
   "execution_count": 9,
   "id": "4ecb95ec",
   "metadata": {},
   "outputs": [],
   "source": [
    "# If you were to add 3 to each data point, how many positive numbers would there be? --5"
   ]
  },
  {
   "cell_type": "code",
   "execution_count": 14,
   "id": "a2de6690",
   "metadata": {},
   "outputs": [],
   "source": [
    "new = a + 3"
   ]
  },
  {
   "cell_type": "code",
   "execution_count": 15,
   "id": "d9cb226f",
   "metadata": {},
   "outputs": [
    {
     "data": {
      "text/plain": [
       "array([ 7, 13, 15, 26,  6])"
      ]
     },
     "execution_count": 15,
     "metadata": {},
     "output_type": "execute_result"
    }
   ],
   "source": [
    "new[a>0]"
   ]
  },
  {
   "cell_type": "code",
   "execution_count": 16,
   "id": "0cc16e88",
   "metadata": {},
   "outputs": [],
   "source": [
    "# If you squared each number, what would the new mean and standard deviation be?"
   ]
  },
  {
   "cell_type": "code",
   "execution_count": 24,
   "id": "2e1837d6",
   "metadata": {},
   "outputs": [],
   "source": [
    "squared = np.square(a)"
   ]
  },
  {
   "cell_type": "code",
   "execution_count": 25,
   "id": "66324099",
   "metadata": {},
   "outputs": [
    {
     "data": {
      "text/plain": [
       "array([ 16, 100, 144, 529,   4,   1,   0,   0,   0,  36,   9,  49])"
      ]
     },
     "execution_count": 25,
     "metadata": {},
     "output_type": "execute_result"
    }
   ],
   "source": [
    "squared"
   ]
  },
  {
   "cell_type": "code",
   "execution_count": 26,
   "id": "3b89fed6",
   "metadata": {},
   "outputs": [
    {
     "data": {
      "text/plain": [
       "144.0243035046516"
      ]
     },
     "execution_count": 26,
     "metadata": {},
     "output_type": "execute_result"
    }
   ],
   "source": [
    "np.std(squared)"
   ]
  },
  {
   "cell_type": "code",
   "execution_count": 27,
   "id": "9379d423",
   "metadata": {},
   "outputs": [
    {
     "data": {
      "text/plain": [
       "74.0"
      ]
     },
     "execution_count": 27,
     "metadata": {},
     "output_type": "execute_result"
    }
   ],
   "source": [
    "np.mean(squared)"
   ]
  },
  {
   "cell_type": "code",
   "execution_count": 21,
   "id": "38cbd003",
   "metadata": {},
   "outputs": [],
   "source": [
    "# # A common statistical operation on a dataset is centering. \n",
    "# This means to adjust the data such that the mean of the data is 0. \n",
    "# This is done by subtracting the mean from each data point. \n",
    "# Center the data set. See this link for more on centering."
   ]
  },
  {
   "cell_type": "code",
   "execution_count": 33,
   "id": "4f007f17",
   "metadata": {},
   "outputs": [],
   "source": [
    "centered = a - 3"
   ]
  },
  {
   "cell_type": "code",
   "execution_count": 34,
   "id": "5cd6fcbb",
   "metadata": {},
   "outputs": [
    {
     "data": {
      "text/plain": [
       "0.0"
      ]
     },
     "execution_count": 34,
     "metadata": {},
     "output_type": "execute_result"
    }
   ],
   "source": [
    "np.mean(centered)"
   ]
  },
  {
   "cell_type": "code",
   "execution_count": 35,
   "id": "ef73883b",
   "metadata": {},
   "outputs": [],
   "source": [
    "# Calculate the z-score for each data point. Recall that the z-score is given by:\n",
    "# Z=(x−μ)/σ\n"
   ]
  },
  {
   "cell_type": "code",
   "execution_count": 39,
   "id": "98478f85",
   "metadata": {},
   "outputs": [],
   "source": [
    "σ = np.std(a)"
   ]
  },
  {
   "cell_type": "code",
   "execution_count": 40,
   "id": "30e5a4a9",
   "metadata": {},
   "outputs": [],
   "source": [
    "μ = np.mean(a)"
   ]
  },
  {
   "cell_type": "code",
   "execution_count": 41,
   "id": "32a76feb",
   "metadata": {},
   "outputs": [
    {
     "data": {
      "text/plain": [
       "array([ 0.12403473,  0.86824314,  1.11631261,  2.48069469, -0.62017367,\n",
       "       -0.49613894, -0.3721042 , -0.3721042 , -0.3721042 , -1.11631261,\n",
       "        0.        , -1.24034735])"
      ]
     },
     "execution_count": 41,
     "metadata": {},
     "output_type": "execute_result"
    }
   ],
   "source": [
    "(a- μ)/ σ"
   ]
  },
  {
   "cell_type": "code",
   "execution_count": null,
   "id": "5afe948d",
   "metadata": {},
   "outputs": [],
   "source": []
  }
 ],
 "metadata": {
  "kernelspec": {
   "display_name": "Python 3 (ipykernel)",
   "language": "python",
   "name": "python3"
  },
  "language_info": {
   "codemirror_mode": {
    "name": "ipython",
    "version": 3
   },
   "file_extension": ".py",
   "mimetype": "text/x-python",
   "name": "python",
   "nbconvert_exporter": "python",
   "pygments_lexer": "ipython3",
   "version": "3.9.7"
  }
 },
 "nbformat": 4,
 "nbformat_minor": 5
}
